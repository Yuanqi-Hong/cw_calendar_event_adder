{
 "cells": [
  {
   "cell_type": "code",
   "execution_count": 1,
   "metadata": {},
   "outputs": [],
   "source": [
    "from selenium import webdriver\n",
    "from selenium.webdriver.common.keys import Keys\n",
    "from selenium.webdriver.support.ui import Select\n",
    "from selenium.webdriver.support.ui import WebDriverWait\n",
    "from datetime import datetime"
   ]
  },
  {
   "cell_type": "code",
   "execution_count": 2,
   "metadata": {},
   "outputs": [],
   "source": [
    "driver = webdriver.Chrome()\n",
    "driver.get('https://courseworks2.columbia.edu')"
   ]
  },
  {
   "cell_type": "code",
   "execution_count": 3,
   "metadata": {},
   "outputs": [],
   "source": [
    "uni = driver.find_element_by_xpath('//*[@id=\"username\"]')\n",
    "uni.send_keys('yourUNI')"
   ]
  },
  {
   "cell_type": "code",
   "execution_count": 4,
   "metadata": {},
   "outputs": [],
   "source": [
    "password = driver.find_element_by_xpath('//*[@id=\"password\"]')\n",
    "password.send_keys('yourPassword')"
   ]
  },
  {
   "cell_type": "code",
   "execution_count": 5,
   "metadata": {},
   "outputs": [],
   "source": [
    "login = driver.find_element_by_xpath('//*[@id=\"fm1\"]/div[3]/input[4]')\n",
    "login.click()"
   ]
  },
  {
   "cell_type": "code",
   "execution_count": 6,
   "metadata": {},
   "outputs": [],
   "source": [
    "calendar = driver.find_element_by_xpath('//*[@id=\"global_nav_calendar_link\"]')\n",
    "calendar.click()"
   ]
  },
  {
   "cell_type": "code",
   "execution_count": 7,
   "metadata": {},
   "outputs": [],
   "source": [
    "driver1 = webdriver.Chrome()\n",
    "event_url = 'https://events.columbia.edu/cal/event/eventView.do?b=de&calPath=%2Fpublic%2Fcals%2FMainCal&guid=CAL-00bb9e25-64ebad6f-0164-fc4242bd-000076d9events@columbia.edu&recurrenceId='\n",
    "driver1.get(event_url)"
   ]
  },
  {
   "cell_type": "code",
   "execution_count": 8,
   "metadata": {},
   "outputs": [
    {
     "data": {
      "text/plain": [
       "'Laser Research and the Evolution of Science in Our Time: A Personal Perspective'"
      ]
     },
     "execution_count": 8,
     "metadata": {},
     "output_type": "execute_result"
    }
   ],
   "source": [
    "title = driver1.find_element_by_class_name('eventTitle').text\n",
    "title"
   ]
  },
  {
   "cell_type": "code",
   "execution_count": 9,
   "metadata": {},
   "outputs": [
    {
     "data": {
      "text/plain": [
       "'Thursday, September 13, 2018 2:00 PM - 4:00 PM'"
      ]
     },
     "execution_count": 9,
     "metadata": {},
     "output_type": "execute_result"
    }
   ],
   "source": [
    "when = driver1.find_element_by_class_name('eventWhen')\n",
    "when_str = when.text\n",
    "when_str"
   ]
  },
  {
   "cell_type": "code",
   "execution_count": 10,
   "metadata": {},
   "outputs": [
    {
     "data": {
      "text/plain": [
       "'Schapiro CEPSR, 530 W. 120 St., New York, NY 10027\\nRoom/Area: Davis Auditorium'"
      ]
     },
     "execution_count": 10,
     "metadata": {},
     "output_type": "execute_result"
    }
   ],
   "source": [
    "where = driver1.find_element_by_class_name('eventWhere').text\n",
    "where"
   ]
  },
  {
   "cell_type": "code",
   "execution_count": 11,
   "metadata": {},
   "outputs": [],
   "source": [
    "when1 = datetime.strptime(when_str.split(' - ')[0], '%A, %B %d, %Y %I:%M %p')\n",
    "when2 = datetime.strptime(when_str.split(' - ')[1], '%I:%M %p')\n",
    "date = when1.strftime('%Y-%m-%d')\n",
    "from_ = when1.strftime('%H:%M')\n",
    "_to = when2.strftime('%H:%M')"
   ]
  },
  {
   "cell_type": "code",
   "execution_count": 12,
   "metadata": {},
   "outputs": [],
   "source": [
    "create_btn = driver.find_element_by_xpath('//*[@id=\"create_new_event_link\"]')\n",
    "create_btn.click()"
   ]
  },
  {
   "cell_type": "code",
   "execution_count": 13,
   "metadata": {},
   "outputs": [],
   "source": [
    "Title = driver.find_element_by_xpath('//*[@id=\"calendar_event_title\"]')\n",
    "Title.send_keys(title)"
   ]
  },
  {
   "cell_type": "code",
   "execution_count": 14,
   "metadata": {},
   "outputs": [],
   "source": [
    "Date = driver.find_element_by_xpath('//*[@id=\"calendar_event_date\"]')\n",
    "Date.clear()\n",
    "Date.send_keys(date)"
   ]
  },
  {
   "cell_type": "code",
   "execution_count": 15,
   "metadata": {},
   "outputs": [],
   "source": [
    "From = driver.find_element_by_xpath('//*[@id=\"calendar_event_start_time\"]')\n",
    "From.clear()\n",
    "From.send_keys(from_)"
   ]
  },
  {
   "cell_type": "code",
   "execution_count": 16,
   "metadata": {},
   "outputs": [],
   "source": [
    "To = driver.find_element_by_xpath('//*[@id=\"calendar_event_end_time\"]')\n",
    "To.clear()\n",
    "To.send_keys(_to)"
   ]
  },
  {
   "cell_type": "code",
   "execution_count": 17,
   "metadata": {},
   "outputs": [],
   "source": [
    "Location = driver.find_element_by_xpath('//*[@id=\"calendar_event_location_name\"]')\n",
    "Location.send_keys(where.split('\\n')[0] + '  ' + where.split('\\n')[1])\n",
    "Location.send_keys('\\n')"
   ]
  },
  {
   "cell_type": "code",
   "execution_count": 18,
   "metadata": {},
   "outputs": [],
   "source": [
    "driver.quit()\n",
    "driver1.quit()"
   ]
  },
  {
   "cell_type": "code",
   "execution_count": null,
   "metadata": {},
   "outputs": [],
   "source": []
  }
 ],
 "metadata": {
  "kernelspec": {
   "display_name": "Python 3",
   "language": "python",
   "name": "python3"
  },
  "language_info": {
   "codemirror_mode": {
    "name": "ipython",
    "version": 3
   },
   "file_extension": ".py",
   "mimetype": "text/x-python",
   "name": "python",
   "nbconvert_exporter": "python",
   "pygments_lexer": "ipython3",
   "version": "3.6.5"
  }
 },
 "nbformat": 4,
 "nbformat_minor": 2
}
